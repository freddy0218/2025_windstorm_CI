{
 "cells": [
  {
   "cell_type": "code",
   "execution_count": 1,
   "metadata": {},
   "outputs": [],
   "source": [
    "import numpy as np\n",
    "import matplotlib.pyplot as plt\n",
    "import torch\n",
    "import torch.nn as nn\n",
    "import torch.optim as optim\n",
    "import torch.nn.functional as F\n",
    "from sklearn import linear_model\n",
    "from sklearn.preprocessing import StandardScaler\n",
    "import pickle\n",
    "import pandas as pd\n",
    "import glob, os\n",
    "\n",
    "# Add the path to the directory containing the module\n",
    "import sys\n",
    "sys.path.append('../../')\n",
    "from util.ml import baseline, metrics"
   ]
  },
  {
   "cell_type": "code",
   "execution_count": 4,
   "metadata": {},
   "outputs": [],
   "source": [
    "def read_Xy(seed, n_vars):\n",
    "    # Find the folder name organized by seed number\n",
    "    seed_docs = sorted(glob.glob('../../datas/seed_*/'))\n",
    "    \n",
    "    # Store different seeds\n",
    "    Xtrains = []\n",
    "    Xvalids = []\n",
    "    Xtests  = []\n",
    "    ytrains = []\n",
    "    yvalids = []\n",
    "    ytests  = []\n",
    "    sizes = []\n",
    "    # Load the data\n",
    "    for ind,obj in enumerate(seed_docs):\n",
    "        # Load the y data\n",
    "        ytrain = {'max': pd.read_csv(obj + 'y_train_max.csv', header=None).iloc[1:,:].reset_index().drop(columns='index'), \n",
    "                  'cdf': pd.read_csv(obj + 'y_train_cdf.csv', header=None).iloc[1:,:].reset_index().drop(columns='index')}\n",
    "        yvalid = {'max': pd.read_csv(obj + 'y_validation_max.csv', header=None).iloc[1:,:].reset_index().drop(columns='index'), \n",
    "                  'cdf': pd.read_csv(obj + 'y_validation_cdf.csv', header=None).iloc[1:,:].reset_index().drop(columns='index')}\n",
    "        ytest  = {'max': pd.read_csv(obj + 'y_test_max.csv', header=None).iloc[1:,:].reset_index().drop(columns='index'), \n",
    "                  'cdf': pd.read_csv(obj + 'y_test_cdf.csv', header=None).iloc[1:,:].reset_index().drop(columns='index')}\n",
    "        \n",
    "        # Load the x data\n",
    "        X_nonorml_train = baseline.load_pickle(f'../../datas/proc/part2/X/{seed}/' + f'X_train_{n_vars}.pkl')['X'][ind]\n",
    "        X_nonorml_valid = baseline.load_pickle(f'../../datas/proc/part2/X/{seed}/' + f'X_valid_{n_vars}.pkl')['X'][ind]\n",
    "        X_nonorml_test  = baseline.load_pickle(f'../../datas/proc/part2/X/{seed}/' + f'X_test_{n_vars}.pkl')['X'][ind]\n",
    "    \n",
    "        # Load the size data\n",
    "        sizes.append(baseline.load_pickle(f'../../datas/proc/part2/X/{seed}/' + f'X_train_{n_vars}.pkl')['varsize'][ind])\n",
    "\n",
    "        # Normalize the data\n",
    "        scaler = StandardScaler().fit(X_nonorml_train)\n",
    "        Xtrain = scaler.transform(X_nonorml_train)\n",
    "        Xvalid = scaler.transform(X_nonorml_valid)\n",
    "        Xtest  = scaler.transform(X_nonorml_test)\n",
    "\n",
    "        # Store the data\n",
    "        Xtrains.append(Xtrain)\n",
    "        Xvalids.append(Xvalid)\n",
    "        Xtests.append(Xtest)\n",
    "        ytrains.append(ytrain)\n",
    "        yvalids.append(yvalid)\n",
    "        ytests.append(ytest)\n",
    "        \n",
    "    return {'Xtrains': Xtrains, 'Xvalids': Xvalids, 'Xtests': Xtests, 'ytrains': ytrains, 'yvalids': yvalids, 'ytests': ytests, 'sizes': sizes}"
   ]
  },
  {
   "cell_type": "code",
   "execution_count": 100,
   "metadata": {},
   "outputs": [],
   "source": [
    "from natsort import natsorted\n",
    "def r2_score_f(y_true,y_pred):\n",
    "    y_true = y_true.flatten()\n",
    "    y_pred = y_pred.flatten()\n",
    "\n",
    "    r2 = 1-np.sum((y_true-y_pred)**2)/np.sum((y_true-np.mean(y_true))**2)\n",
    "    return r2\n"
   ]
  },
  {
   "cell_type": "code",
   "execution_count": 101,
   "metadata": {},
   "outputs": [],
   "source": [
    "from sklearn.metrics import mean_squared_error, mean_absolute_error, r2_score\n",
    "def get_r2valid_and_complexity(n_vars,seed_varcv):\n",
    "    # Read the data\n",
    "    data = read_Xy(seed_varcv, n_vars)\n",
    "    \n",
    "    # Read trained models\n",
    "    model_list = natsorted(glob.glob(f'../../datas/proc/part2/nestedMLR/{seed_varcv}/cv_*_var_{n_vars}_bestmodel.pkl'))\n",
    "    \n",
    "    # Load the trained models\n",
    "    models = [baseline.load_pickle(model) for model in model_list]\n",
    "\n",
    "    r2_valids, r2_trains, r2_tests, sizes_valids, phy_size_valids = [],[],[],[],[]\n",
    "    ydicts = []\n",
    "    for i in range(10):\n",
    "        ydict = {}\n",
    "        r2_valids.append(r2_score_f(data['yvalids'][i]['cdf'].values,models[i]['bestmodel'].predict(data['Xvalids'][i])))\n",
    "        ydict['yvalid_pred'] = models[i]['bestmodel'].predict(data['Xvalids'][i])\n",
    "        ydict['yvalid_true'] = data['yvalids'][i]['cdf'].values\n",
    "\n",
    "        r2_trains.append(r2_score_f(data['ytrains'][i]['cdf'].values,models[i]['bestmodel'].predict(data['Xtrains'][i])))\n",
    "        ydict['ytrain_pred'] = models[i]['bestmodel'].predict(data['Xtrains'][i])\n",
    "        ydict['ytrain_true'] = data['ytrains'][i]['cdf'].values\n",
    "\n",
    "        r2_tests.append(r2_score_f(data['ytests'][i]['cdf'].values,models[i]['bestmodel'].predict(data['Xtests'][i])))\n",
    "        ydict['ytest_pred'] = models[i]['bestmodel'].predict(data['Xtests'][i])\n",
    "        ydict['ytest_true'] = data['ytests'][i]['cdf'].values\n",
    "\n",
    "        sizes_valids.append(np.sum(np.asarray(data['sizes'][i])))\n",
    "        phy_size_valids.append(n_vars)\n",
    "        ydicts.append(ydict)\n",
    "\n",
    "\n",
    "    return r2_trains, r2_valids, r2_tests, sizes_valids,phy_size_valids, ydicts"
   ]
  },
  {
   "cell_type": "code",
   "execution_count": 102,
   "metadata": {},
   "outputs": [],
   "source": [
    "# Model complexity\n",
    "n_vars = 5\n",
    "\n",
    "# Seed number for correlation variable cross-validation\n",
    "seed_varcv = 1\n",
    "\n",
    "store_results = {}\n",
    "for n_vars in [2, 3, 4, 5]:\n",
    "    store_results[f'{n_vars}'] = get_r2valid_and_complexity(n_vars,seed_varcv)"
   ]
  },
  {
   "cell_type": "code",
   "execution_count": 90,
   "metadata": {},
   "outputs": [
    {
     "data": {
      "text/plain": [
       "array([[2.36765548, 1.47359734, 1.38052109, 2.9806981 , 1.10028576,\n",
       "        0.714757  , 4.09540764, 0.91101658, 0.71828595, 0.56929634,\n",
       "        1.17322355, 2.21198133, 2.2212163 , 0.59224292, 1.26314574],\n",
       "       [2.61720542, 1.64392923, 1.32362151, 2.96243182, 1.36814831,\n",
       "        0.68988871, 4.57517471, 1.04139874, 0.68371999, 0.45778277,\n",
       "        1.30366026, 2.37372183, 2.23274063, 0.6919006 , 1.05514512]])"
      ]
     },
     "execution_count": 90,
     "metadata": {},
     "output_type": "execute_result"
    }
   ],
   "source": [
    "store_results['2'][-1][0]['yvalid_pred'][0:2,:]"
   ]
  },
  {
   "cell_type": "code",
   "execution_count": 92,
   "metadata": {},
   "outputs": [
    {
     "data": {
      "text/plain": [
       "array([2.36765548, 1.47359734, 1.38052109, 2.9806981 , 1.10028576,\n",
       "       0.714757  , 4.09540764, 0.91101658, 0.71828595, 0.56929634,\n",
       "       1.17322355, 2.21198133, 2.2212163 , 0.59224292, 1.26314574,\n",
       "       2.61720542, 1.64392923, 1.32362151, 2.96243182, 1.36814831,\n",
       "       0.68988871, 4.57517471, 1.04139874, 0.68371999, 0.45778277,\n",
       "       1.30366026, 2.37372183, 2.23274063, 0.6919006 , 1.05514512])"
      ]
     },
     "execution_count": 92,
     "metadata": {},
     "output_type": "execute_result"
    }
   ],
   "source": [
    "store_results['2'][-1][0]['yvalid_pred'][0:2,:].flatten()"
   ]
  },
  {
   "cell_type": "code",
   "execution_count": 94,
   "metadata": {},
   "outputs": [
    {
     "data": {
      "text/plain": [
       "array([0.43416257, 0.09629943, 2.53327514, 0.21070896, 0.07750736,\n",
       "       0.08138084, 1.86250996, 0.07957025, 0.17156206, 0.0311104 ,\n",
       "       0.75805894, 1.67338676, 2.65324704, 0.0834221 , 0.0390813 ,\n",
       "       2.83267521, 2.82178632, 0.67042071, 4.06922139, 1.21347463,\n",
       "       0.28077558, 3.75805739, 0.91023414, 0.26891327, 0.06098095,\n",
       "       0.66373998, 1.46091615, 0.48655505, 0.36195404, 0.50447758])"
      ]
     },
     "execution_count": 94,
     "metadata": {},
     "output_type": "execute_result"
    }
   ],
   "source": [
    "store_results['2'][-1][0]['yvalid_true'][0:2,:].flatten()"
   ]
  },
  {
   "cell_type": "code",
   "execution_count": 103,
   "metadata": {},
   "outputs": [
    {
     "data": {
      "image/png": "[encoded data removed]",
      "text/plain": [
       "<Figure size 640x480 with 1 Axes>"
      ]
     },
     "metadata": {},
     "output_type": "display_data"
    }
   ],
   "source": [
    "for n_vars in [2, 3, 4, 5]:\n",
    "    r2_trains, r2_valids, r2_tests, sizes_valids, phy_size_valids, _ = store_results[f'{n_vars}']\n",
    "    plt.scatter((phy_size_valids), (r2_valids), c='tab:blue')\n",
    "    plt.ylim(-2,1)"
   ]
  },
  {
   "cell_type": "code",
   "execution_count": null,
   "metadata": {},
   "outputs": [],
   "source": []
  }
 ],
 "metadata": {
  "kernelspec": {
   "display_name": "myenv",
   "language": "python",
   "name": "python3"
  },
  "language_info": {
   "codemirror_mode": {
    "name": "ipython",
    "version": 3
   },
   "file_extension": ".py",
   "mimetype": "text/x-python",
   "name": "python",
   "nbconvert_exporter": "python",
   "pygments_lexer": "ipython3",
   "version": "3.8.18"
  }
 },
 "nbformat": 4,
 "nbformat_minor": 2
}
