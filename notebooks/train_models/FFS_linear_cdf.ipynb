{
 "cells": [
  {
   "cell_type": "markdown",
   "metadata": {},
   "source": [
    "# Training nested MLR models with Sequential Forward Feature Selection\n",
    "We plan to find the best set of variables that explain the most of the data without any overfitting. This is important for our research problem as we are in a particularly low sample regime, which necessitates simplifying the models. The most straight-forward approach model simplification can take is through removing variables that have redundant information, as in the inclusion of such variables would hurt the generalizability of the machine learning models. Including such variables would quickly overparameterize the model and lead to an increased risk of model overfitting."
   ]
  },
  {
   "cell_type": "code",
   "execution_count": 2,
   "metadata": {},
   "outputs": [],
   "source": [
    "import numpy as np\n",
    "import matplotlib.pyplot as plt\n",
    "import torch\n",
    "import torch.nn as nn\n",
    "import torch.optim as optim\n",
    "import torch.nn.functional as F\n",
    "from sklearn import linear_model\n",
    "from sklearn.preprocessing import StandardScaler\n",
    "import pickle\n",
    "import pandas as pd\n",
    "import glob, os, gc\n",
    "from sklearn.decomposition import PCA\n",
    "from tqdm import tqdm\n",
    "from sklearn.model_selection import KFold\n",
    "\n",
    "# Add the path to the directory containing the module\n",
    "import sys\n",
    "sys.path.append('../../')\n",
    "from util.ml import baseline, metrics, nestedMLR\n",
    "\n",
    "from properscoring import crps_ensemble  # For CRPS calculation\n",
    "from sklearn.utils import resample  # For bootstrapping"
   ]
  },
  {
   "cell_type": "markdown",
   "metadata": {},
   "source": [
    "## Read in files and settings"
   ]
  },
  {
   "cell_type": "code",
   "execution_count": 3,
   "metadata": {},
   "outputs": [],
   "source": [
    "# Find the folder name organized by seed number\n",
    "seed_doc = sorted(glob.glob('../../datas/seed_revised_*/'))[0]\n",
    "\n",
    "# Load the data\n",
    "# Load the time series data\n",
    "df = pd.read_csv(seed_doc +'X_train_ts_all.csv')\n",
    "df_valid = pd.read_csv(seed_doc +'X_validation_ts_all.csv')\n",
    "df_test = pd.read_csv(seed_doc +'X_test_ts_all.csv')\n",
    "\n",
    "# Find the name for each column\n",
    "column_names = ([obj.split('_step_')[0] for obj in df.columns])\n",
    "# Unique names in the column name list\n",
    "unique_names = list(set(column_names))\n",
    "# Remove strings with large_scale\n",
    "unique_names_filt = [var for var in unique_names if \"large_scale\" not in var]"
   ]
  },
  {
   "cell_type": "code",
   "execution_count": 4,
   "metadata": {},
   "outputs": [],
   "source": [
    "# Now we read in the y data for every fold\n",
    "y_train = []\n",
    "y_val = []\n",
    "for i in range(7):\n",
    "    y_train.append(baseline.load_pickle(f'../../datas/proc/sfs/y/ytrain_split_{i}.pkl'))\n",
    "    y_val.append(baseline.load_pickle(f'../../datas/proc/sfs/y/yval_split_{i}.pkl'))\n",
    "\n",
    "pcs_train = baseline.load_pickle(f'../../datas/proc/sfs/pcsall_train.pkl')\n",
    "pcs_val = baseline.load_pickle(f'../../datas/proc/sfs/pcsall_valid.pkl')"
   ]
  },
  {
   "cell_type": "markdown",
   "metadata": {},
   "source": [
    "## Sequential Forward Feature Selection"
   ]
  },
  {
   "cell_type": "code",
   "execution_count": 5,
   "metadata": {},
   "outputs": [],
   "source": [
    "from scipy.optimize import minimize\n",
    "from sklearn.base import BaseEstimator, RegressorMixin\n",
    "from sklearn.metrics import mean_squared_error, mean_absolute_error, r2_score\n",
    "from tqdm import tqdm\n",
    "from sklearn import linear_model\n",
    "from sklearn.ensemble import RandomForestRegressor\n",
    "from sklearn.model_selection import GridSearchCV"
   ]
  },
  {
   "cell_type": "code",
   "execution_count": 6,
   "metadata": {},
   "outputs": [],
   "source": [
    "# List of variable names\n",
    "var_names = list(pcs_train[0].keys())\n",
    "\n",
    "# Empty list to store the chosen variables\n",
    "selected_vars = []\n",
    "# List to store all the variable choices\n",
    "remaining_vars = [var for var in var_names if \"large_scale\" not in var]\n",
    "# Initial RMSE to beat is infinity\n",
    "best_val_rmse = float('inf')\n",
    "# Target transformation category\n",
    "target_cat = 'cdf'\n",
    "# Seed\n",
    "seed = 42\n",
    "# Hyperparameter space for the random forest\n",
    "param_grid = {\n",
    "    \"n_estimators\": [100],\n",
    "    \"max_depth\": [None],\n",
    "    \"min_samples_split\": [2],\n",
    "}"
   ]
  },
  {
   "cell_type": "markdown",
   "metadata": {},
   "source": [
    "#### NestedMLR"
   ]
  },
  {
   "cell_type": "code",
   "execution_count": 20,
   "metadata": {},
   "outputs": [
    {
     "name": "stderr",
     "output_type": "stream",
     "text": [
      " 10%|█         | 2/20 [00:00<00:01, 14.69it/s]"
     ]
    },
    {
     "name": "stdout",
     "output_type": "stream",
     "text": [
      "1.3699707467120632 inf inf\n",
      "1.3440133613245453 1.3699707467120632 inf\n",
      "1.347035061466956 1.3440133613245453 inf\n",
      "1.4163983021275197 1.3440133613245453 inf\n",
      "1.3819491231693808 1.3440133613245453 inf\n",
      "1.3875197870849443 1.3440133613245453 inf\n",
      "1.374648307775648 1.3440133613245453 inf\n",
      "1.3498558253494406 1.3440133613245453 inf\n",
      "1.393789981084739 1.3440133613245453 inf\n",
      "1.3679230192745546 1.3440133613245453 inf\n",
      "1.3563802380297199 1.3440133613245453 inf\n",
      "1.368095252209754 1.3440133613245453 inf\n",
      "1.3373129467827416 1.3440133613245453 inf\n",
      "1.345022172116129 1.3373129467827416 inf\n",
      "1.3617760401051098 1.3373129467827416 inf\n",
      "1.3424636673853099 1.3373129467827416 inf\n",
      "1.3431818859521816 1.3373129467827416 inf\n",
      "1.3651930725849035 1.3373129467827416 inf\n",
      "1.3713592542877353 1.3373129467827416 inf\n",
      "1.3368287102423315 1.3373129467827416 inf\n",
      "1.3428526696716996 1.3368287102423315 inf\n",
      "1.3350572278627306 1.3368287102423315 inf\n",
      "1.3579844496439606 1.3350572278627306 inf\n",
      "1.3450691312188874 1.3350572278627306 inf\n",
      "1.3718239603484519 1.3350572278627306 inf\n",
      "1.3573344165066032 1.3350572278627306 inf\n",
      "1.3409512417354443 1.3350572278627306 inf\n",
      "1.367866046186332 1.3350572278627306 inf\n",
      "1.3629479059228449 1.3350572278627306 inf\n",
      "1.3578035143108793 1.3350572278627306 inf\n",
      "1.353086666752979 1.3350572278627306 inf\n",
      "1.3756417999197728 1.3350572278627306 inf\n",
      "1.342741107125701 1.3350572278627306 inf\n",
      "1.3832595920149835 1.3350572278627306 inf\n",
      "1.3321468108100498 1.3350572278627306 inf\n",
      "1.340941804032802 1.3321468108100498 inf\n"
     ]
    },
    {
     "name": "stderr",
     "output_type": "stream",
     "text": [
      " 30%|███       | 6/20 [00:00<00:00, 15.64it/s]"
     ]
    },
    {
     "name": "stdout",
     "output_type": "stream",
     "text": [
      "1.3531532975023743 1.3321468108100498 inf\n",
      "1.3499927351282952 1.3321468108100498 inf\n",
      "1.352070734423822 1.3321468108100498 inf\n",
      "1.3708185312625185 1.3321468108100498 inf\n",
      "1.357943387966221 1.3321468108100498 inf\n",
      "1.3559409389548596 1.3321468108100498 inf\n",
      "1.354885824091479 1.3321468108100498 inf\n",
      "1.343020474264694 1.3321468108100498 inf\n",
      "1.3875550371649474 1.3321468108100498 inf\n",
      "1.3534917174456988 1.3321468108100498 inf\n",
      "1.3899540456964805 1.3321468108100498 inf\n",
      "1.3578784518083016 1.3321468108100498 inf\n",
      "1.3542731821944696 1.3321468108100498 inf\n",
      "1.3581804477037491 1.3321468108100498 inf\n",
      "1.3750767633082768 1.3321468108100498 inf\n",
      "1.3791972693155454 1.3321468108100498 inf\n",
      "1.3863882526101994 1.3321468108100498 inf\n",
      "1.391277694620854 1.3321468108100498 inf\n",
      "1.348220996062643 1.3321468108100498 inf\n",
      "1.3441252975535576 1.3321468108100498 inf\n",
      "1.3378475574608946 1.3321468108100498 inf\n",
      "1.359441213866933 1.3321468108100498 inf\n",
      "1.3646382122717549 1.3321468108100498 inf\n",
      "1.3606850909945472 1.3321468108100498 inf\n",
      "1.3662795413259252 1.3321468108100498 inf\n",
      "1.3648933108146504 1.3321468108100498 inf\n",
      "1.359090734825178 1.3321468108100498 inf\n",
      "1.3474465111241325 1.3321468108100498 inf\n",
      "1.3601568497320091 1.3321468108100498 inf\n",
      "1.3594353112087685 1.3321468108100498 inf\n",
      "1.372787461272472 1.3321468108100498 inf\n",
      "1.349802441854269 1.3321468108100498 inf\n",
      "1.3699191052831157 1.3321468108100498 inf\n",
      "1.40169780485868 1.3321468108100498 inf\n",
      "1.3654332512537302 1.3321468108100498 inf\n",
      "1.3761919941729759 1.3321468108100498 inf\n",
      "1.393100388240811 1.3321468108100498 inf\n"
     ]
    },
    {
     "name": "stderr",
     "output_type": "stream",
     "text": [
      " 40%|████      | 8/20 [00:00<00:00, 15.76it/s]"
     ]
    },
    {
     "name": "stdout",
     "output_type": "stream",
     "text": [
      "1.3370062898734798 1.3321468108100498 inf\n",
      "1.3598820776894343 1.3321468108100498 inf\n",
      "1.4145593117472965 1.3321468108100498 inf\n",
      "1.345293280012841 1.3321468108100498 inf\n",
      "1.4101025152018927 1.3321468108100498 inf\n",
      "1.347970120310031 1.3321468108100498 inf\n",
      "1.3593298699876926 1.3321468108100498 inf\n",
      "1.3548492750419927 1.3321468108100498 inf\n",
      "1.3474434336435708 1.3321468108100498 inf\n",
      "1.3446151424914372 1.3321468108100498 inf\n",
      "1.366613834600889 1.3321468108100498 inf\n",
      "1.3388710666202839 1.3321468108100498 inf\n",
      "1.3465513680949341 1.3321468108100498 inf\n",
      "1.3703178194196035 1.3321468108100498 inf\n",
      "1.3358464706106985 1.3321468108100498 inf\n",
      "1.3740509308230269 1.3321468108100498 inf\n",
      "1.3410104964188327 1.3321468108100498 inf\n",
      "1.353055673012955 1.3321468108100498 inf\n",
      "1.3741986085913303 1.3321468108100498 inf\n",
      "1.3747623544269085 1.3321468108100498 inf\n",
      "1.3474934114573531 1.3321468108100498 inf\n",
      "1.361942809123367 1.3321468108100498 inf\n",
      "1.3586837185605678 1.3321468108100498 inf\n",
      "1.3333347310426793 1.3321468108100498 inf\n",
      "1.3526928266170906 1.3321468108100498 inf\n",
      "1.3511477384036912 1.3321468108100498 inf\n",
      "1.4117118743302988 1.3321468108100498 inf\n",
      "1.3460310802858582 1.3321468108100498 inf\n",
      "1.3636766215669136 1.3321468108100498 inf\n",
      "1.3559193848150033 1.3321468108100498 inf\n",
      "1.3513160166236549 1.3321468108100498 inf\n",
      "1.3530623471907361 1.3321468108100498 inf\n",
      "1.385369525325524 1.3321468108100498 inf\n",
      "1.3348346604656292 1.3321468108100498 inf\n",
      "1.3392693482345102 1.3321468108100498 inf\n",
      "1.3783846886441116 1.3321468108100498 inf\n"
     ]
    },
    {
     "name": "stderr",
     "output_type": "stream",
     "text": [
      " 60%|██████    | 12/20 [00:00<00:00, 15.41it/s]"
     ]
    },
    {
     "name": "stdout",
     "output_type": "stream",
     "text": [
      "1.3401994691642092 1.3321468108100498 inf\n",
      "1.3699708095171101 1.3321468108100498 inf\n",
      "1.344013393751073 1.3321468108100498 inf\n",
      "1.347035146759347 1.3321468108100498 inf\n",
      "1.4163984314834208 1.3321468108100498 inf\n",
      "1.381949453502136 1.3321468108100498 inf\n",
      "1.387520072977124 1.3321468108100498 inf\n",
      "1.3746486761688135 1.3321468108100498 inf\n",
      "1.349855587484288 1.3321468108100498 inf\n",
      "1.3937903821851445 1.3321468108100498 inf\n",
      "1.3679225846582341 1.3321468108100498 inf\n",
      "1.3563809464394083 1.3321468108100498 inf\n",
      "1.3875560488420198 1.3321468108100498 inf\n",
      "1.3534915071604368 1.3321468108100498 inf\n",
      "1.389954224431705 1.3321468108100498 inf\n",
      "1.3578796753006606 1.3321468108100498 inf\n",
      "1.3542743542560334 1.3321468108100498 inf\n",
      "1.358184533636702 1.3321468108100498 inf\n",
      "1.3750757938577622 1.3321468108100498 inf\n",
      "1.3792071232703085 1.3321468108100498 inf\n",
      "1.3863789867903509 1.3321468108100498 inf\n",
      "1.3912843907297048 1.3321468108100498 inf\n",
      "1.3482185356629082 1.3321468108100498 inf\n",
      "1.331151924456236 1.3321468108100498 inf\n",
      "1.3411566004323767 1.331151924456236 inf\n",
      "1.3844428527755996 1.331151924456236 inf\n",
      "1.3297259944826452 1.331151924456236 inf\n",
      "1.3498848940555004 1.3297259944826452 inf\n",
      "1.3417205493392466 1.3297259944826452 inf\n",
      "1.3436243720118326 1.3297259944826452 inf\n",
      "1.3586635858422489 1.3297259944826452 inf\n",
      "1.3393043338922521 1.3297259944826452 inf\n",
      "1.351388578750486 1.3297259944826452 inf\n",
      "1.3476541418743866 1.3297259944826452 inf\n",
      "1.3855394232848397 1.3297259944826452 inf\n"
     ]
    },
    {
     "name": "stderr",
     "output_type": "stream",
     "text": [
      " 80%|████████  | 16/20 [00:01<00:00, 15.42it/s]"
     ]
    },
    {
     "name": "stdout",
     "output_type": "stream",
     "text": [
      "1.3483360399214916 1.3297259944826452 inf\n",
      "1.3547630897156249 1.3297259944826452 inf\n",
      "1.3480073859624653 1.3297259944826452 inf\n",
      "1.377212059538005 1.3297259944826452 inf\n",
      "1.3422919480345914 1.3297259944826452 inf\n",
      "1.3694979428609584 1.3297259944826452 inf\n",
      "1.3487569580644045 1.3297259944826452 inf\n",
      "1.3360772231126123 1.3297259944826452 inf\n",
      "1.3630271693488942 1.3297259944826452 inf\n",
      "1.352050720270604 1.3297259944826452 inf\n",
      "1.3518550078054834 1.3297259944826452 inf\n",
      "1.3427913017190816 1.3297259944826452 inf\n",
      "1.3611150835032304 1.3297259944826452 inf\n",
      "1.343889933121263 1.3297259944826452 inf\n",
      "1.3681835316902884 1.3297259944826452 inf\n",
      "1.356007757702584 1.3297259944826452 inf\n",
      "1.3565282697789425 1.3297259944826452 inf\n",
      "1.3502530488971887 1.3297259944826452 inf\n",
      "1.342723334095114 1.3297259944826452 inf\n",
      "1.3435121364150926 1.3297259944826452 inf\n",
      "1.3711043175663673 1.3297259944826452 inf\n",
      "1.3727875265593084 1.3297259944826452 inf\n",
      "1.3498024397339916 1.3297259944826452 inf\n",
      "1.3699196159283835 1.3297259944826452 inf\n",
      "1.4016988647725135 1.3297259944826452 inf\n",
      "1.3654331401675464 1.3297259944826452 inf\n",
      "1.3761930925705206 1.3297259944826452 inf\n",
      "1.3931014264668786 1.3297259944826452 inf\n",
      "1.3370068075769221 1.3297259944826452 inf\n",
      "1.3598812237373663 1.3297259944826452 inf\n",
      "1.4145603078082722 1.3297259944826452 inf\n",
      "1.345292664599367 1.3297259944826452 inf\n",
      "1.368095252209754 1.3297259944826452 inf\n",
      "1.3373129467827416 1.3297259944826452 inf\n"
     ]
    },
    {
     "name": "stderr",
     "output_type": "stream",
     "text": [
      " 85%|████████▌ | 17/20 [00:01<00:00, 15.38it/s]"
     ]
    },
    {
     "name": "stdout",
     "output_type": "stream",
     "text": [
      "1.345022172116129 1.3297259944826452 inf\n",
      "1.3617760401051098 1.3297259944826452 inf\n",
      "1.3424636673853099 1.3297259944826452 inf\n",
      "1.3431818859521816 1.3297259944826452 inf\n",
      "1.3651930725849035 1.3297259944826452 inf\n",
      "1.3713592542877353 1.3297259944826452 inf\n",
      "1.3368287102423315 1.3297259944826452 inf\n",
      "1.3428526696716996 1.3297259944826452 inf\n",
      "1.3350572278627306 1.3297259944826452 inf\n"
     ]
    },
    {
     "name": "stderr",
     "output_type": "stream",
     "text": [
      "\n"
     ]
    },
    {
     "ename": "KeyboardInterrupt",
     "evalue": "",
     "output_type": "error",
     "traceback": [
      "\u001b[0;31m---------------------------------------------------------------------------\u001b[0m",
      "\u001b[0;31mKeyboardInterrupt\u001b[0m                         Traceback (most recent call last)",
      "Cell \u001b[0;32mIn[20], line 17\u001b[0m\n\u001b[1;32m     15\u001b[0m candidate_features\u001b[38;5;241m.\u001b[39mappend(pcs_train[iseed][var][:,[pc_index]])\n\u001b[1;32m     16\u001b[0m X_train_subset \u001b[38;5;241m=\u001b[39m np\u001b[38;5;241m.\u001b[39mhstack(candidate_features)\n\u001b[0;32m---> 17\u001b[0m X_val_subset \u001b[38;5;241m=\u001b[39m np\u001b[38;5;241m.\u001b[39mhstack([pcs_val[iseed][sel_var] \u001b[38;5;28;01mfor\u001b[39;00m sel_var \u001b[38;5;129;01min\u001b[39;00m selected_vars] \u001b[38;5;241m+\u001b[39m \n\u001b[1;32m     18\u001b[0m                          [pcs_val[iseed][var][:,[pc_index]]])\n\u001b[1;32m     20\u001b[0m \u001b[38;5;66;03m# Train a model and evaluate\u001b[39;00m\n\u001b[1;32m     21\u001b[0m model \u001b[38;5;241m=\u001b[39m linear_model\u001b[38;5;241m.\u001b[39mLinearRegression()\n",
      "\u001b[0;31mKeyboardInterrupt\u001b[0m: "
     ]
    }
   ],
   "source": [
    "while remaining_vars:\n",
    "    best_var = None\n",
    "    best_mean_val_rmse = best_val_rmse\n",
    "\n",
    "    # Test each variable\n",
    "    for var in tqdm(remaining_vars):\n",
    "        nPC = (pcs_train[0][var].shape[1]) # Number of PCs for this variable\n",
    "        # Create a linear regression model\n",
    "        for pc_index in range(nPC):\n",
    "            mean_score = []\n",
    "            for iseed in range(7):\n",
    "                candidate_features = []\n",
    "                for sel_var in selected_vars:\n",
    "                    candidate_features.append(pcs_train[iseed][sel_var])\n",
    "                candidate_features.append(pcs_train[iseed][var][:,[pc_index]])\n",
    "                X_train_subset = np.hstack(candidate_features)\n",
    "                X_val_subset = np.hstack([pcs_val[iseed][sel_var] for sel_var in selected_vars] + \n",
    "                                         [pcs_val[iseed][var][:,[pc_index]]])\n",
    "                \n",
    "                # Train a model and evaluate\n",
    "                model = linear_model.LinearRegression()\n",
    "                model.fit(X_train_subset, y_train[iseed][target_cat])\n",
    "                y_pred = model.predict(X_val_subset)\n",
    "                # Calculate the validation RMSE\n",
    "                val_rmse = mean_squared_error(y_val[iseed][target_cat], y_pred, squared=False)\n",
    "                # Store the validation RMSE for this fold\n",
    "                mean_score.append(val_rmse)\n",
    "            \n",
    "            # Get the mean validation RMSE across folds\n",
    "            mean_val_rmse = np.mean(np.asarray(mean_score))\n",
    "            print(mean_val_rmse, best_mean_val_rmse, best_val_rmse)\n",
    "            # Track and update the best RMSE score\n",
    "            if mean_val_rmse < best_mean_val_rmse:\n",
    "                best_mean_val_rmse = mean_val_rmse\n",
    "                best_var = var\n",
    "                \n",
    "    print('_______')\n",
    "    print((best_mean_val_rmse, best_val_rmse))\n",
    "    # Automatically select all PCs of the best variable\n",
    "    if best_var and best_mean_val_rmse <= best_val_rmse:\n",
    "        selected_vars.append(best_var)\n",
    "        remaining_vars.remove(best_var)\n",
    "        best_val_rmse = best_mean_val_rmse\n",
    "        print('_______')\n",
    "        print(selected_vars)\n",
    "        #sys.stdout.flush()\n",
    "    else:\n",
    "        break\n",
    "\n",
    "\n"
   ]
  },
  {
   "cell_type": "markdown",
   "metadata": {},
   "source": [
    "### RF"
   ]
  },
  {
   "cell_type": "markdown",
   "metadata": {},
   "source": [
    "#### all"
   ]
  },
  {
   "cell_type": "code",
   "execution_count": 35,
   "metadata": {},
   "outputs": [
    {
     "name": "stderr",
     "output_type": "stream",
     "text": [
      "100%|██████████| 184/184 [18:46<00:00,  6.12s/it]\n"
     ]
    },
    {
     "name": "stdout",
     "output_type": "stream",
     "text": [
      "Selected PC: convective_available_potential_energy_min_PC3, Mean Val RMSE: 1.2882816457831918\n"
     ]
    },
    {
     "name": "stderr",
     "output_type": "stream",
     "text": [
      "100%|██████████| 183/183 [18:53<00:00,  6.19s/it]"
     ]
    },
    {
     "name": "stdout",
     "output_type": "stream",
     "text": [
      "No improvement. Stopping feature selection.\n"
     ]
    },
    {
     "name": "stderr",
     "output_type": "stream",
     "text": [
      "\n"
     ]
    }
   ],
   "source": [
    "# Initialize variables\n",
    "selected_pcs = []  # List to store selected PCs\n",
    "remaining_vars = [var for var in var_names if \"large_scale\" not in var]  # All variables initially available for selection\n",
    "best_val_rmse = float('inf')  # Start with a very high RMSE value\n",
    "\n",
    "while remaining_vars:\n",
    "    best_var = None\n",
    "    best_pc_index = None\n",
    "    best_iseed = None\n",
    "    best_mean_val_rmse = best_val_rmse\n",
    "\n",
    "    # Test each variable\n",
    "    for var in tqdm(remaining_vars):\n",
    "        nPC = pcs_train[0][var].shape[1]  # Number of PCs for this variable\n",
    "\n",
    "        # Test each PC of the variable\n",
    "        for pc_index in range(nPC):\n",
    "            mean_score = []\n",
    "\n",
    "            # Evaluate using all seeds\n",
    "            for iseed in range(7):\n",
    "                # Prepare data for the current candidate PC\n",
    "                candidate_features = [pcs_train[iseed][sel_var][:, [pc_idx]] \n",
    "                                      for sel_var, pc_idx in selected_pcs]\n",
    "                candidate_features.append(pcs_train[iseed][var][:, [pc_index]])\n",
    "                X_train_subset = np.hstack(candidate_features)\n",
    "                X_val_subset = np.hstack(\n",
    "                    [pcs_val[iseed][sel_var][:, [pc_idx]] for sel_var, pc_idx in selected_pcs] +\n",
    "                    [pcs_val[iseed][var][:, [pc_index]]]\n",
    "                )\n",
    "\n",
    "                # Train a model and evaluate\n",
    "                model = RandomForestRegressor(random_state=seed)\n",
    "                #grid_search = GridSearchCV(\n",
    "                #    estimator=model,\n",
    "                #    param_grid=param_grid,\n",
    "                #    scoring=\"neg_root_mean_squared_error\",  # Use RMSE as scoring metric\n",
    "                #    cv=3,  # Inner cross-validation\n",
    "                #)\n",
    "                #model.fit(X_train_subset, y_train[iseed][target_cat])\n",
    "                \n",
    "                # Use the best model to predict\n",
    "                #model = grid_search.best_estimator_\n",
    "                model.fit(X_train_subset, y_train[iseed][target_cat])\n",
    "                y_pred = model.predict(X_val_subset)\n",
    "\n",
    "                # Calculate the validation RMSE\n",
    "                val_rmse = mean_squared_error(y_val[iseed][target_cat], y_pred, squared=False)\n",
    "                mean_score.append(val_rmse)\n",
    "\n",
    "                # Track the best seed for this PC\n",
    "                if val_rmse == min(mean_score):  # Check if this seed gives the best RMSE\n",
    "                    current_best_iseed = iseed\n",
    "\n",
    "            # Compute the mean validation RMSE across seeds\n",
    "            mean_val_rmse = np.mean(mean_score)\n",
    "\n",
    "            # Update the best PC if this one performs better\n",
    "            if mean_val_rmse < best_mean_val_rmse:\n",
    "                best_mean_val_rmse = mean_val_rmse\n",
    "                best_var = var\n",
    "                best_pc_index = pc_index\n",
    "                best_iseed = current_best_iseed\n",
    "\n",
    "    # Check if we found a PC that improves validation RMSE\n",
    "    if best_var and best_mean_val_rmse < best_val_rmse:\n",
    "        # Add the best-performing PC to the selected set\n",
    "        selected_pcs.append((best_var, best_pc_index))\n",
    "        remaining_vars.remove(best_var)\n",
    "        best_val_rmse = best_mean_val_rmse\n",
    "        print(f\"Selected PC: {best_var}_PC{best_pc_index + 1}, Mean Val RMSE: {best_mean_val_rmse}\")\n",
    "    else:\n",
    "        print(\"No improvement. Stopping feature selection.\")\n",
    "        break\n"
   ]
  },
  {
   "cell_type": "markdown",
   "metadata": {},
   "source": [
    "#### 30"
   ]
  },
  {
   "cell_type": "code",
   "execution_count": 10,
   "metadata": {},
   "outputs": [
    {
     "name": "stderr",
     "output_type": "stream",
     "text": [
      "100%|██████████| 30/30 [12:06<00:00, 24.21s/it]\n"
     ]
    },
    {
     "name": "stdout",
     "output_type": "stream",
     "text": [
      "Selected PC: surface_latent_heat_flux_min_PC2, Mean Val RMSE: 1.4446984006301278\n"
     ]
    },
    {
     "name": "stderr",
     "output_type": "stream",
     "text": [
      "100%|██████████| 29/29 [11:57<00:00, 24.73s/it]\n"
     ]
    },
    {
     "name": "stdout",
     "output_type": "stream",
     "text": [
      "Selected PC: geopotential_500_min_PC1, Mean Val RMSE: 1.334079775199497\n"
     ]
    },
    {
     "name": "stderr",
     "output_type": "stream",
     "text": [
      "100%|██████████| 28/28 [11:51<00:00, 25.40s/it]\n"
     ]
    },
    {
     "name": "stdout",
     "output_type": "stream",
     "text": [
      "Selected PC: 10m_magnitude_of_wind_mean_PC2, Mean Val RMSE: 1.3099424057631899\n"
     ]
    },
    {
     "name": "stderr",
     "output_type": "stream",
     "text": [
      "100%|██████████| 27/27 [11:36<00:00, 25.80s/it]\n"
     ]
    },
    {
     "name": "stdout",
     "output_type": "stream",
     "text": [
      "Selected PC: geopotential_1000_max_PC8, Mean Val RMSE: 1.2878110422551654\n"
     ]
    },
    {
     "name": "stderr",
     "output_type": "stream",
     "text": [
      "100%|██████████| 26/26 [11:15<00:00, 26.00s/it]\n"
     ]
    },
    {
     "name": "stdout",
     "output_type": "stream",
     "text": [
      "Selected PC: 100m_magnitude_of_wind_mean_PC10, Mean Val RMSE: 1.2816968406378675\n"
     ]
    },
    {
     "name": "stderr",
     "output_type": "stream",
     "text": [
      "100%|██████████| 25/25 [10:59<00:00, 26.40s/it]"
     ]
    },
    {
     "name": "stdout",
     "output_type": "stream",
     "text": [
      "No improvement. Stopping feature selection.\n"
     ]
    },
    {
     "name": "stderr",
     "output_type": "stream",
     "text": [
      "\n"
     ]
    }
   ],
   "source": [
    "# Initialize variables\n",
    "selected_pcs = []  # List to store selected PCs\n",
    "remaining_vars = list(pcs_train[0].keys())  # All variables initially available for selection\n",
    "best_val_rmse = float('inf')  # Start with a very high RMSE value\n",
    "\n",
    "while remaining_vars:\n",
    "    best_var = None\n",
    "    best_pc_index = None\n",
    "    best_mean_val_rmse = best_val_rmse\n",
    "\n",
    "    # Test each variable\n",
    "    for var in tqdm(remaining_vars):\n",
    "        nPC = pcs_train[0][var].shape[1]  # Number of PCs for this variable\n",
    "\n",
    "        # Test each PC of the variable\n",
    "        for pc_index in range(nPC):\n",
    "            mean_score = []\n",
    "\n",
    "            # Evaluate using all seeds\n",
    "            for iseed in range(7):\n",
    "                # Prepare data for the current candidate PC\n",
    "                candidate_features = [pcs_train[iseed][sel_var][:, [pc_idx]] \n",
    "                                      for sel_var, pc_idx in selected_pcs]\n",
    "                candidate_features.append(pcs_train[iseed][var][:, [pc_index]])\n",
    "                X_train_subset = np.hstack(candidate_features)\n",
    "                X_val_subset = np.hstack(\n",
    "                    [pcs_val[iseed][sel_var][:, [pc_idx]] for sel_var, pc_idx in selected_pcs] +\n",
    "                    [pcs_val[iseed][var][:, [pc_index]]]\n",
    "                )\n",
    "\n",
    "                # Train a model and evaluate\n",
    "                model = RandomForestRegressor(random_state=seed)\n",
    "                grid_search = GridSearchCV(\n",
    "                    estimator=model,\n",
    "                    param_grid=param_grid,\n",
    "                    scoring=\"neg_root_mean_squared_error\",  # Use RMSE as scoring metric\n",
    "                    cv=3,  # Inner cross-validation\n",
    "                )\n",
    "                grid_search.fit(X_train_subset, y_train[iseed][target_cat])\n",
    "                \n",
    "                # Use the best model to predict\n",
    "                model = grid_search.best_estimator_\n",
    "                #model.fit(X_train_subset, y_train[iseed][target_cat])\n",
    "                y_pred = model.predict(X_val_subset)\n",
    "\n",
    "                # Calculate the validation RMSE\n",
    "                val_rmse = mean_squared_error(y_val[iseed][target_cat], y_pred, squared=False)\n",
    "                mean_score.append(val_rmse)\n",
    "\n",
    "            # Compute the mean validation RMSE across seeds\n",
    "            mean_val_rmse = np.mean(mean_score)\n",
    "\n",
    "            # Update the best PC if this one performs better\n",
    "            if mean_val_rmse < best_mean_val_rmse:\n",
    "                best_mean_val_rmse = mean_val_rmse\n",
    "                best_var = var\n",
    "                best_pc_index = pc_index\n",
    "\n",
    "    # Check if we found a PC that improves validation RMSE\n",
    "    if best_var and best_mean_val_rmse < best_val_rmse:\n",
    "        # Add the best-performing PC to the selected set\n",
    "        selected_pcs.append((best_var, best_pc_index))\n",
    "        remaining_vars.remove(best_var)\n",
    "        best_val_rmse = best_mean_val_rmse\n",
    "        print(f\"Selected PC: {best_var}_PC{best_pc_index + 1}, Mean Val RMSE: {best_mean_val_rmse}\")\n",
    "    else:\n",
    "        print(\"No improvement. Stopping feature selection.\")\n",
    "        break\n"
   ]
  },
  {
   "cell_type": "markdown",
   "metadata": {},
   "source": [
    "### Linear"
   ]
  },
  {
   "cell_type": "markdown",
   "metadata": {},
   "source": [
    "#### 20"
   ]
  },
  {
   "cell_type": "markdown",
   "metadata": {},
   "source": [
    "#### all"
   ]
  },
  {
   "cell_type": "code",
   "execution_count": 7,
   "metadata": {},
   "outputs": [
    {
     "name": "stdout",
     "output_type": "stream",
     "text": [
      "Selected PC: relative_humidity_850_mean_PC11, Mean Val RMSE: 1.2550392845893388\n",
      "Selected PC: relative_humidity_900_max_PC1, Mean Val RMSE: 1.241884272191761\n",
      "Selected PC: relative_humidity_30_min_PC8, Mean Val RMSE: 1.2282240397342457\n",
      "Selected PC: relative_humidity_850_std_PC8, Mean Val RMSE: 1.2182808263700438\n",
      "Selected PC: relative_humidity_950_min_PC3, Mean Val RMSE: 1.2075029518397966\n",
      "Selected PC: k_index_mean_PC8, Mean Val RMSE: 1.1994924244587732\n",
      "Selected PC: relative_humidity_925_mean_PC8, Mean Val RMSE: 1.189351413217784\n",
      "Selected PC: relative_humidity_250_max_PC5, Mean Val RMSE: 1.18257838346893\n",
      "Selected PC: relative_humidity_100_mean_PC8, Mean Val RMSE: 1.1782313109031135\n",
      "Selected PC: geopotential_1000_mean_PC6, Mean Val RMSE: 1.1719048086484978\n",
      "Selected PC: relative_humidity_1000_mean_PC11, Mean Val RMSE: 1.1658931282293612\n",
      "Selected PC: surface_sensible_heat_flux_max_PC4, Mean Val RMSE: 1.1617247904733603\n",
      "Selected PC: relative_humidity_200_max_PC10, Mean Val RMSE: 1.1558462729732213\n",
      "Selected PC: relative_humidity_70_mean_PC9, Mean Val RMSE: 1.1512837436548977\n",
      "Selected PC: surface_latent_heat_flux_min_PC10, Mean Val RMSE: 1.1486520439422157\n",
      "Selected PC: relative_humidity_300_max_PC9, Mean Val RMSE: 1.1447862494888636\n",
      "Selected PC: relative_humidity_300_min_PC7, Mean Val RMSE: 1.1415092475416828\n",
      "Selected PC: relative_humidity_850_min_PC6, Mean Val RMSE: 1.1387473989288415\n",
      "Selected PC: mean_vertically_integrated_moisture_divergence_min_PC9, Mean Val RMSE: 1.1371807950677912\n",
      "Selected PC: geopotential_1000_max_PC3, Mean Val RMSE: 1.1360569858118772\n",
      "Selected PC: total_totals_index_max_PC5, Mean Val RMSE: 1.1347784644147845\n",
      "No improvement. Stopping feature selection.\n"
     ]
    }
   ],
   "source": [
    "# Initialize variables\n",
    "selected_pcs = []  # List to store selected PCs\n",
    "remaining_vars = [var for var in var_names if \"large_scale\" not in var] # All variables initially available for selection\n",
    "best_val_rmse = float('inf')  # Start with a very high RMSE value\n",
    "\n",
    "while remaining_vars:\n",
    "    best_var = None\n",
    "    best_pc_index = None\n",
    "    #best_iseed = None\n",
    "    best_mean_val_rmse = best_val_rmse\n",
    "\n",
    "    # Test each variable\n",
    "    for var in remaining_vars:\n",
    "        nPC = pcs_train[0][var].shape[1]  # Number of PCs for this variable\n",
    "\n",
    "        # Test each PC of the variable\n",
    "        for pc_index in range(nPC):\n",
    "            mean_score = []\n",
    "\n",
    "            # Evaluate using all seeds\n",
    "            for iseed in range(7):\n",
    "                # Prepare data for the current candidate PC\n",
    "                candidate_features = [pcs_train[iseed][sel_var][:, [pc_idx]] \n",
    "                                      for sel_var, pc_idx in selected_pcs]\n",
    "                candidate_features.append(pcs_train[iseed][var][:, [pc_index]])\n",
    "                X_train_subset = np.hstack(candidate_features)\n",
    "                X_val_subset = np.hstack(\n",
    "                    [pcs_val[iseed][sel_var][:, [pc_idx]] for sel_var, pc_idx in selected_pcs] +\n",
    "                    [pcs_val[iseed][var][:, [pc_index]]]\n",
    "                )\n",
    "\n",
    "                # Train a model and evaluate\n",
    "                model = linear_model.LinearRegression()\n",
    "                model.fit(X_train_subset, y_train[iseed][target_cat])\n",
    "                y_pred = model.predict(X_val_subset)\n",
    "\n",
    "                # Calculate the validation RMSE\n",
    "                val_rmse = mean_squared_error(y_val[iseed][target_cat], y_pred, squared=False)\n",
    "                mean_score.append(val_rmse)\n",
    "\n",
    "                # Track the best seed for this PC\n",
    "                #if val_rmse == min(mean_score):  # Check if this seed gives the best RMSE\n",
    "                #    current_best_iseed = iseed\n",
    "\n",
    "            # Compute the mean validation RMSE across seeds\n",
    "            mean_val_rmse = np.mean(mean_score)\n",
    "\n",
    "            # Update the best PC if this one performs better\n",
    "            if mean_val_rmse < best_mean_val_rmse:\n",
    "                best_mean_val_rmse = mean_val_rmse\n",
    "                best_var = var\n",
    "                best_pc_index = pc_index\n",
    "                #best_iseed = current_best_iseed\n",
    "\n",
    "    # Check if we found a PC that improves validation RMSE\n",
    "    if best_var and best_mean_val_rmse < best_val_rmse:\n",
    "        # Add the best-performing PC to the selected set\n",
    "        selected_pcs.append((best_var, best_pc_index))\n",
    "        remaining_vars.remove(best_var)\n",
    "        best_val_rmse = best_mean_val_rmse\n",
    "        print(f\"Selected PC: {best_var}_PC{best_pc_index + 1}, Mean Val RMSE: {best_mean_val_rmse}\")\n",
    "    else:\n",
    "        print(\"No improvement. Stopping feature selection.\")\n",
    "        break\n"
   ]
  },
  {
   "cell_type": "code",
   "execution_count": 19,
   "metadata": {},
   "outputs": [],
   "source": [
    "def train_based_on_selected(pcs_train,pcs_val,y_train,iseed,target_cat,selected_pcs):\n",
    "    X_train_subset = np.hstack(\n",
    "        [pcs_train[iseed][sel_var][:, [pc_idx]] for sel_var, pc_idx in selected_pcs]\n",
    "        )\n",
    "    \n",
    "    X_val_subset = np.hstack(\n",
    "        [pcs_val[iseed][sel_var][:, [pc_idx]] for sel_var, pc_idx in selected_pcs]\n",
    "        )\n",
    "    \n",
    "    model = linear_model.LinearRegression()\n",
    "    model.fit(X_train_subset, y_train[iseed][target_cat])\n",
    "    return model, X_train_subset, X_val_subset"
   ]
  },
  {
   "cell_type": "code",
   "execution_count": 22,
   "metadata": {},
   "outputs": [],
   "source": [
    "models = []\n",
    "valsrmse = []\n",
    "for i in range(7):\n",
    "    model, X_train_subset, X_val_subset = train_based_on_selected(pcs_train,pcs_val,y_train,i,target_cat,selected_pcs)\n",
    "    y_pred = model.predict(X_val_subset)\n",
    "    models.append(model)\n",
    "    valsrmse.append(mean_squared_error(y_val[i][target_cat], y_pred, squared=False))"
   ]
  },
  {
   "cell_type": "code",
   "execution_count": 24,
   "metadata": {},
   "outputs": [],
   "source": [
    "baseline.save_models({'models':models,'val_rmse':valsrmse},f'../../datas/proc/sfs/results/best_linear_afterselect.pkl')"
   ]
  },
  {
   "cell_type": "code",
   "execution_count": 9,
   "metadata": {},
   "outputs": [],
   "source": [
    "baseline.save_models(selected_pcs,f'../../datas/proc/sfs/results/best_linear_cdf_feature.pkl')"
   ]
  },
  {
   "cell_type": "markdown",
   "metadata": {},
   "source": [
    "#### Probabilistic"
   ]
  },
  {
   "cell_type": "code",
   "execution_count": 6,
   "metadata": {},
   "outputs": [
    {
     "name": "stderr",
     "output_type": "stream",
     "text": [
      "  0%|          | 0/196 [00:00<?, ?it/s]"
     ]
    },
    {
     "name": "stderr",
     "output_type": "stream",
     "text": [
      "100%|██████████| 196/196 [11:42<00:00,  3.58s/it]\n"
     ]
    },
    {
     "name": "stdout",
     "output_type": "stream",
     "text": [
      "Selected PC: relative_humidity_150_std_PC10, Mean Val RMSE: 0.852078878503774\n"
     ]
    },
    {
     "name": "stderr",
     "output_type": "stream",
     "text": [
      "100%|██████████| 195/195 [11:14<00:00,  3.46s/it]\n"
     ]
    },
    {
     "name": "stdout",
     "output_type": "stream",
     "text": [
      "Selected PC: 10m_magnitude_of_wind_mean_PC10, Mean Val RMSE: 0.8099722754769674\n"
     ]
    },
    {
     "name": "stderr",
     "output_type": "stream",
     "text": [
      "100%|██████████| 194/194 [10:24<00:00,  3.22s/it]\n"
     ]
    },
    {
     "name": "stdout",
     "output_type": "stream",
     "text": [
      "Selected PC: convective_available_potential_energy_min_PC11, Mean Val RMSE: 0.7744771745181797\n"
     ]
    },
    {
     "name": "stderr",
     "output_type": "stream",
     "text": [
      "100%|██████████| 193/193 [09:50<00:00,  3.06s/it]\n"
     ]
    },
    {
     "name": "stdout",
     "output_type": "stream",
     "text": [
      "Selected PC: relative_humidity_70_mean_PC8, Mean Val RMSE: 0.7489202930143003\n"
     ]
    },
    {
     "name": "stderr",
     "output_type": "stream",
     "text": [
      "100%|██████████| 192/192 [09:53<00:00,  3.09s/it]\n"
     ]
    },
    {
     "name": "stdout",
     "output_type": "stream",
     "text": [
      "Selected PC: relative_humidity_1000_mean_PC11, Mean Val RMSE: 0.7385795948228253\n"
     ]
    },
    {
     "name": "stderr",
     "output_type": "stream",
     "text": [
      "100%|██████████| 191/191 [09:24<00:00,  2.96s/it]\n"
     ]
    },
    {
     "name": "stdout",
     "output_type": "stream",
     "text": [
      "Selected PC: 10m_orientation_of_wind_mean_PC11, Mean Val RMSE: 0.7378090072285783\n"
     ]
    },
    {
     "name": "stderr",
     "output_type": "stream",
     "text": [
      "100%|██████████| 190/190 [09:04<00:00,  2.87s/it]"
     ]
    },
    {
     "name": "stdout",
     "output_type": "stream",
     "text": [
      "No improvement. Stopping feature selection.\n"
     ]
    },
    {
     "name": "stderr",
     "output_type": "stream",
     "text": [
      "\n"
     ]
    }
   ],
   "source": [
    "# Initialize variables\n",
    "selected_pcs = []  # List to store selected PCs\n",
    "remaining_vars = list(pcs_train[0].keys())  # All variables initially available for selection\n",
    "best_val_crps = float('inf')  # Start with a very high RMSE value\n",
    "\n",
    "while remaining_vars:\n",
    "    best_var = None\n",
    "    best_pc_index = None\n",
    "    best_mean_val_crps = best_val_crps\n",
    "\n",
    "    # Test each variable\n",
    "    for var in tqdm(remaining_vars):\n",
    "        nPC = pcs_train[0][var].shape[1]  # Number of PCs for this variable\n",
    "\n",
    "        # Test each PC of the variable\n",
    "        for pc_index in range(nPC):\n",
    "            mean_score = []\n",
    "\n",
    "            # Evaluate using all seeds\n",
    "            for iseed in range(7):\n",
    "                # Prepare data for the current candidate PC\n",
    "                candidate_features = [pcs_train[iseed][sel_var][:, [pc_idx]] \n",
    "                                      for sel_var, pc_idx in selected_pcs]\n",
    "                candidate_features.append(pcs_train[iseed][var][:, [pc_index]])\n",
    "                X_train_subset = np.hstack(candidate_features)\n",
    "                X_val_subset = np.hstack(\n",
    "                    [pcs_val[iseed][sel_var][:, [pc_idx]] for sel_var, pc_idx in selected_pcs] +\n",
    "                    [pcs_val[iseed][var][:, [pc_index]]]\n",
    "                )\n",
    "\n",
    "                # Train a model and evaluate\n",
    "                model = linear_model.LinearRegression()\n",
    "                model.fit(X_train_subset, y_train[iseed][target_cat])\n",
    "                y_pred = model.predict(X_val_subset)\n",
    "\n",
    "                # Generate ensemble predictions using bootstrapping\n",
    "                y_pred_ensemble = []\n",
    "                for _ in range(50):  # Number of ensemble members\n",
    "                    bootstrap_X, bootstrap_y = resample(X_train_subset, y_train[iseed][target_cat])\n",
    "                    bootstrap_model = linear_model.LinearRegression()\n",
    "                    bootstrap_model.fit(bootstrap_X, bootstrap_y)\n",
    "                    y_pred_ensemble.append(bootstrap_model.predict(X_val_subset))\n",
    "                y_pred_ensemble = np.array(y_pred_ensemble)  # Shape: (n_samples, n_ensemble)\n",
    "\n",
    "                # Calculate the CRPS score\n",
    "                val_crps = np.mean([crps_ensemble(y_val[iseed][target_cat][i], y_pred_ensemble[:, i, :].T) \n",
    "                                for i in range(len(y_val[iseed][target_cat]))])\n",
    "                mean_score.append(val_crps)\n",
    "\n",
    "            # Compute the mean CRPS across seeds\n",
    "            mean_val_crps = np.mean(mean_score)\n",
    "\n",
    "            # Update the best PC if this one performs better\n",
    "            if mean_val_crps < best_mean_val_crps:\n",
    "                best_mean_val_crps = mean_val_crps\n",
    "                best_var = var\n",
    "                best_pc_index = pc_index\n",
    "\n",
    "    # Check if we found a PC that improves validation RMSE\n",
    "    if best_var and best_mean_val_crps < best_val_crps:\n",
    "        # Add the best-performing PC to the selected set\n",
    "        selected_pcs.append((best_var, best_pc_index))\n",
    "        remaining_vars.remove(best_var)\n",
    "        best_val_crps = best_mean_val_crps\n",
    "        print(f\"Selected PC: {best_var}_PC{best_pc_index + 1}, Mean Val RMSE: {best_mean_val_crps}\")\n",
    "    else:\n",
    "        print(\"No improvement. Stopping feature selection.\")\n",
    "        break\n"
   ]
  },
  {
   "cell_type": "markdown",
   "metadata": {},
   "source": [
    "#### 30"
   ]
  },
  {
   "cell_type": "code",
   "execution_count": 7,
   "metadata": {},
   "outputs": [
    {
     "name": "stdout",
     "output_type": "stream",
     "text": [
      "Selected PC: 100m_magnitude_of_wind_mean_PC11, Mean Val RMSE: 1.295685566862838, Seed: 6\n",
      "Selected PC: mean_surface_latent_heat_flux_mean_PC3, Mean Val RMSE: 1.2918166506338797, Seed: 6\n",
      "Selected PC: mean_sea_level_pressure_min_PC11, Mean Val RMSE: 1.285289225325478, Seed: 6\n",
      "Selected PC: surface_latent_heat_flux_std_PC2, Mean Val RMSE: 1.2827884884276681, Seed: 6\n",
      "Selected PC: 10m_magnitude_of_wind_std_PC6, Mean Val RMSE: 1.2789278097959607, Seed: 6\n",
      "No improvement. Stopping feature selection.\n"
     ]
    }
   ],
   "source": [
    "# Initialize variables\n",
    "selected_pcs = []  # List to store selected PCs\n",
    "remaining_vars = list(pcs_train[0].keys())  # All variables initially available for selection\n",
    "best_val_rmse = float('inf')  # Start with a very high RMSE value\n",
    "\n",
    "while remaining_vars:\n",
    "    best_var = None\n",
    "    best_pc_index = None\n",
    "    best_iseed = None\n",
    "    best_mean_val_rmse = best_val_rmse\n",
    "\n",
    "    # Test each variable\n",
    "    for var in remaining_vars:\n",
    "        nPC = pcs_train[0][var].shape[1]  # Number of PCs for this variable\n",
    "\n",
    "        # Test each PC of the variable\n",
    "        for pc_index in range(nPC):\n",
    "            mean_score = []\n",
    "\n",
    "            # Evaluate using all seeds\n",
    "            for iseed in range(7):\n",
    "                # Prepare data for the current candidate PC\n",
    "                candidate_features = [pcs_train[iseed][sel_var][:, [pc_idx]] \n",
    "                                      for sel_var, pc_idx in selected_pcs]\n",
    "                candidate_features.append(pcs_train[iseed][var][:, [pc_index]])\n",
    "                X_train_subset = np.hstack(candidate_features)\n",
    "                X_val_subset = np.hstack(\n",
    "                    [pcs_val[iseed][sel_var][:, [pc_idx]] for sel_var, pc_idx in selected_pcs] +\n",
    "                    [pcs_val[iseed][var][:, [pc_index]]]\n",
    "                )\n",
    "\n",
    "                # Train a model and evaluate\n",
    "                model = linear_model.LinearRegression()\n",
    "                model.fit(X_train_subset, y_train[iseed][target_cat])\n",
    "                y_pred = model.predict(X_val_subset)\n",
    "\n",
    "                # Calculate the validation RMSE\n",
    "                val_rmse = mean_squared_error(y_val[iseed][target_cat], y_pred, squared=False)\n",
    "                mean_score.append(val_rmse)\n",
    "\n",
    "                # Track the best seed for this PC\n",
    "                if val_rmse == min(mean_score):  # Check if this seed gives the best RMSE\n",
    "                    current_best_iseed = iseed\n",
    "\n",
    "            # Compute the mean validation RMSE across seeds\n",
    "            mean_val_rmse = np.mean(mean_score)\n",
    "\n",
    "            # Update the best PC if this one performs better\n",
    "            if mean_val_rmse < best_mean_val_rmse:\n",
    "                best_mean_val_rmse = mean_val_rmse\n",
    "                best_var = var\n",
    "                best_pc_index = pc_index\n",
    "                best_iseed = current_best_iseed\n",
    "\n",
    "    # Check if we found a PC that improves validation RMSE\n",
    "    if best_var and best_mean_val_rmse < best_val_rmse:\n",
    "        # Add the best-performing PC to the selected set\n",
    "        selected_pcs.append((best_var, best_pc_index))\n",
    "        remaining_vars.remove(best_var)\n",
    "        best_val_rmse = best_mean_val_rmse\n",
    "        print(f\"Selected PC: {best_var}_PC{best_pc_index + 1}, Mean Val RMSE: {best_mean_val_rmse}, Seed: {best_iseed}\")\n",
    "    else:\n",
    "        print(\"No improvement. Stopping feature selection.\")\n",
    "        break\n"
   ]
  },
  {
   "cell_type": "markdown",
   "metadata": {},
   "source": [
    "#### 40"
   ]
  },
  {
   "cell_type": "code",
   "execution_count": 29,
   "metadata": {},
   "outputs": [
    {
     "name": "stdout",
     "output_type": "stream",
     "text": [
      "Selected PC: mean_top_net_long_wave_radiation_flux_std_PC9, Mean Val RMSE: 1.326135643881517, Seed: 0\n",
      "Selected PC: 2m_dewpoint_temperature_max_PC11, Mean Val RMSE: 1.316756247171401, Seed: 0\n",
      "Selected PC: 2m_temperature_std_PC6, Mean Val RMSE: 1.3102959084722106, Seed: 0\n",
      "Selected PC: k_index_max_PC3, Mean Val RMSE: 1.307242133702916, Seed: 0\n",
      "Selected PC: 10m_v_component_of_wind_max_PC9, Mean Val RMSE: 1.3067771641821166, Seed: 0\n",
      "Selected PC: mean_sea_level_pressure_mean_PC4, Mean Val RMSE: 1.3063823692533671, Seed: 0\n",
      "Selected PC: mean_sea_level_pressure_min_PC10, Mean Val RMSE: 1.3031657793849616, Seed: 0\n",
      "No improvement. Stopping feature selection.\n"
     ]
    }
   ],
   "source": [
    "# Initialize variables\n",
    "selected_pcs = []  # List to store selected PCs\n",
    "remaining_vars = list(pcs_train[0].keys())  # All variables initially available for selection\n",
    "best_val_rmse = float('inf')  # Start with a very high RMSE value\n",
    "\n",
    "while remaining_vars:\n",
    "    best_var = None\n",
    "    best_pc_index = None\n",
    "    best_iseed = None\n",
    "    best_mean_val_rmse = best_val_rmse\n",
    "\n",
    "    # Test each variable\n",
    "    for var in remaining_vars:\n",
    "        nPC = pcs_train[0][var].shape[1]  # Number of PCs for this variable\n",
    "\n",
    "        # Test each PC of the variable\n",
    "        for pc_index in range(nPC):\n",
    "            mean_score = []\n",
    "\n",
    "            # Evaluate using all seeds\n",
    "            for iseed in range(7):\n",
    "                # Prepare data for the current candidate PC\n",
    "                candidate_features = [pcs_train[iseed][sel_var][:, [pc_idx]] \n",
    "                                      for sel_var, pc_idx in selected_pcs]\n",
    "                candidate_features.append(pcs_train[iseed][var][:, [pc_index]])\n",
    "                X_train_subset = np.hstack(candidate_features)\n",
    "                X_val_subset = np.hstack(\n",
    "                    [pcs_val[iseed][sel_var][:, [pc_idx]] for sel_var, pc_idx in selected_pcs] +\n",
    "                    [pcs_val[iseed][var][:, [pc_index]]]\n",
    "                )\n",
    "\n",
    "                # Train a model and evaluate\n",
    "                model = linear_model.LinearRegression()\n",
    "                model.fit(X_train_subset, y_train[iseed][target_cat])\n",
    "                y_pred = model.predict(X_val_subset)\n",
    "\n",
    "                # Calculate the validation RMSE\n",
    "                val_rmse = mean_squared_error(y_val[iseed][target_cat], y_pred, squared=False)\n",
    "                mean_score.append(val_rmse)\n",
    "\n",
    "                # Track the best seed for this PC\n",
    "                if val_rmse == min(mean_score):  # Check if this seed gives the best RMSE\n",
    "                    current_best_iseed = iseed\n",
    "\n",
    "            # Compute the mean validation RMSE across seeds\n",
    "            mean_val_rmse = np.mean(mean_score)\n",
    "\n",
    "            # Update the best PC if this one performs better\n",
    "            if mean_val_rmse < best_mean_val_rmse:\n",
    "                best_mean_val_rmse = mean_val_rmse\n",
    "                best_var = var\n",
    "                best_pc_index = pc_index\n",
    "                best_iseed = current_best_iseed\n",
    "\n",
    "    # Check if we found a PC that improves validation RMSE\n",
    "    if best_var and best_mean_val_rmse < best_val_rmse:\n",
    "        # Add the best-performing PC to the selected set\n",
    "        selected_pcs.append((best_var, best_pc_index))\n",
    "        remaining_vars.remove(best_var)\n",
    "        best_val_rmse = best_mean_val_rmse\n",
    "        print(f\"Selected PC: {best_var}_PC{best_pc_index + 1}, Mean Val RMSE: {best_mean_val_rmse}, Seed: {best_iseed}\")\n",
    "    else:\n",
    "        print(\"No improvement. Stopping feature selection.\")\n",
    "        break\n"
   ]
  },
  {
   "cell_type": "markdown",
   "metadata": {},
   "source": [
    "### Climatology"
   ]
  },
  {
   "cell_type": "code",
   "execution_count": 54,
   "metadata": {},
   "outputs": [],
   "source": [
    "meantrain = []\n",
    "for i in range(7):\n",
    "    meantrain.append([y_train[i]['cdf'].mean(axis=0) for _ in range(y_val[i]['cdf'].shape[0])])"
   ]
  },
  {
   "cell_type": "code",
   "execution_count": 55,
   "metadata": {},
   "outputs": [
    {
     "data": {
      "text/plain": [
       "1.335407045719028"
      ]
     },
     "execution_count": 55,
     "metadata": {},
     "output_type": "execute_result"
    }
   ],
   "source": [
    "np.mean(np.asarray([mean_squared_error(y_val[i]['cdf'], meantrain[i], squared=False) for i in range(7)]))"
   ]
  },
  {
   "cell_type": "code",
   "execution_count": null,
   "metadata": {},
   "outputs": [],
   "source": []
  }
 ],
 "metadata": {
  "kernelspec": {
   "display_name": "myenv",
   "language": "python",
   "name": "python3"
  },
  "language_info": {
   "codemirror_mode": {
    "name": "ipython",
    "version": 3
   },
   "file_extension": ".py",
   "mimetype": "text/x-python",
   "name": "python",
   "nbconvert_exporter": "python",
   "pygments_lexer": "ipython3",
   "version": "3.8.18"
  }
 },
 "nbformat": 4,
 "nbformat_minor": 2
}
