{
 "cells": [
  {
   "cell_type": "code",
   "execution_count": 1,
   "metadata": {},
   "outputs": [
    {
     "name": "stderr",
     "output_type": "stream",
     "text": [
      "/Users/itam/miniconda3/envs/myenv/lib/python3.8/site-packages/tqdm/auto.py:21: TqdmWarning: IProgress not found. Please update jupyter and ipywidgets. See https://ipywidgets.readthedocs.io/en/stable/user_install.html\n",
      "  from .autonotebook import tqdm as notebook_tqdm\n"
     ]
    }
   ],
   "source": [
    "import numpy as np\n",
    "import torch\n",
    "import torch.nn as nn\n",
    "import torch.nn.functional as F\n",
    "import torch.optim as optim\n",
    "from torch.utils.data import DataLoader, TensorDataset\n",
    "from sklearn.preprocessing import StandardScaler\n",
    "import pandas as pd\n",
    "import matplotlib.pyplot as plt\n",
    "import optuna\n",
    "import os, glob\n",
    "import sys\n",
    "\n",
    "# Add the path to the directory containing the module\n",
    "import sys\n",
    "sys.path.append('../../')\n",
    "from util.ml import baseline, metrics, nestedMLR"
   ]
  },
  {
   "cell_type": "markdown",
   "metadata": {},
   "source": [
    "## Prepare and train the nestedMLR models"
   ]
  },
  {
   "cell_type": "markdown",
   "metadata": {},
   "source": [
    "### Read X and y files"
   ]
  },
  {
   "cell_type": "code",
   "execution_count": 2,
   "metadata": {},
   "outputs": [
    {
     "name": "stdout",
     "output_type": "stream",
     "text": [
      "\u001b[34m1\u001b[m\u001b[m   \u001b[34m102\u001b[m\u001b[m \u001b[34m42\u001b[m\u001b[m  \u001b[34m45\u001b[m\u001b[m\n"
     ]
    }
   ],
   "source": [
    "! ls ../../datas/proc/old/part2/X_old/"
   ]
  },
  {
   "cell_type": "code",
   "execution_count": 3,
   "metadata": {},
   "outputs": [],
   "source": [
    "# Find the folder name organized by seed number\n",
    "seed_docs = sorted(glob.glob('../../datas/seed_*/'))\n",
    "\n",
    "# Model complexity\n",
    "n_vars = 5\n",
    "\n",
    "# Seed number\n",
    "seed = 102\n",
    "\n",
    "# Store different seeds\n",
    "Xtrains = []\n",
    "Xvalids = []\n",
    "Xtests  = []\n",
    "ytrains = []\n",
    "yvalids = []\n",
    "ytests  = []\n",
    "sizes = []\n",
    "# Load the data\n",
    "for ind,obj in enumerate(seed_docs):\n",
    "    # Load the y data\n",
    "    ytrain = {'max': pd.read_csv(obj + 'y_train_max.csv', header=None).iloc[1:,:].reset_index().drop(columns='index'), \n",
    "              'cdf': pd.read_csv(obj + 'y_train_cdf.csv', header=None).iloc[1:,:].reset_index().drop(columns='index')}\n",
    "    yvalid = {'max': pd.read_csv(obj + 'y_validation_max.csv', header=None).iloc[1:,:].reset_index().drop(columns='index'), \n",
    "              'cdf': pd.read_csv(obj + 'y_validation_cdf.csv', header=None).iloc[1:,:].reset_index().drop(columns='index')}\n",
    "    ytest  = {'max': pd.read_csv(obj + 'y_test_max.csv', header=None).iloc[1:,:].reset_index().drop(columns='index'), \n",
    "              'cdf': pd.read_csv(obj + 'y_test_cdf.csv', header=None).iloc[1:,:].reset_index().drop(columns='index')}\n",
    "\n",
    "    # Load the x data\n",
    "    X_nonorml_train = baseline.load_pickle(f'../../datas/proc/old/part2/X_old/{seed}/' + f'X_train_{n_vars}.pkl')['X'][ind]\n",
    "    X_nonorml_valid = baseline.load_pickle(f'../../datas/proc/old/part2/X_old/{seed}/' + f'X_valid_{n_vars}.pkl')['X'][ind]\n",
    "    X_nonorml_test  = baseline.load_pickle(f'../../datas/proc/old/part2/X_old/{seed}/' + f'X_test_{n_vars}.pkl')['X'][ind]\n",
    "\n",
    "    # Load the size data\n",
    "    sizes.append(baseline.load_pickle(f'../../datas/proc/old/part2/X_old/{seed}/' + f'X_train_{n_vars}.pkl')['varsize'][ind])\n",
    "\n",
    "    # Normalize the data\n",
    "    scaler = StandardScaler().fit(X_nonorml_train)\n",
    "    Xtrain = scaler.transform(X_nonorml_train)\n",
    "    Xvalid = scaler.transform(X_nonorml_valid)\n",
    "    Xtest  = scaler.transform(X_nonorml_test)\n",
    "\n",
    "    # Store the data\n",
    "    Xtrains.append(Xtrain)\n",
    "    Xvalids.append(Xvalid)\n",
    "    Xtests.append(Xtest)\n",
    "    ytrains.append(ytrain)\n",
    "    yvalids.append(yvalid)\n",
    "    ytests.append(ytest)\n",
    "\n"
   ]
  },
  {
   "cell_type": "markdown",
   "metadata": {},
   "source": [
    "### Define nestedMLR model"
   ]
  },
  {
   "cell_type": "code",
   "execution_count": 4,
   "metadata": {},
   "outputs": [],
   "source": [
    "from scipy.optimize import minimize\n",
    "from sklearn.base import BaseEstimator, RegressorMixin\n",
    "from sklearn.metrics import mean_squared_error, mean_absolute_error, r2_score\n",
    "from tqdm import tqdm"
   ]
  },
  {
   "cell_type": "code",
   "execution_count": 5,
   "metadata": {},
   "outputs": [
    {
     "data": {
      "text/html": [
       "<style>#sk-container-id-1 {color: black;}#sk-container-id-1 pre{padding: 0;}#sk-container-id-1 div.sk-toggleable {background-color: white;}#sk-container-id-1 label.sk-toggleable__label {cursor: pointer;display: block;width: 100%;margin-bottom: 0;padding: 0.3em;box-sizing: border-box;text-align: center;}#sk-container-id-1 label.sk-toggleable__label-arrow:before {content: \"▸\";float: left;margin-right: 0.25em;color: #696969;}#sk-container-id-1 label.sk-toggleable__label-arrow:hover:before {color: black;}#sk-container-id-1 div.sk-estimator:hover label.sk-toggleable__label-arrow:before {color: black;}#sk-container-id-1 div.sk-toggleable__content {max-height: 0;max-width: 0;overflow: hidden;text-align: left;background-color: #f0f8ff;}#sk-container-id-1 div.sk-toggleable__content pre {margin: 0.2em;color: black;border-radius: 0.25em;background-color: #f0f8ff;}#sk-container-id-1 input.sk-toggleable__control:checked~div.sk-toggleable__content {max-height: 200px;max-width: 100%;overflow: auto;}#sk-container-id-1 input.sk-toggleable__control:checked~label.sk-toggleable__label-arrow:before {content: \"▾\";}#sk-container-id-1 div.sk-estimator input.sk-toggleable__control:checked~label.sk-toggleable__label {background-color: #d4ebff;}#sk-container-id-1 div.sk-label input.sk-toggleable__control:checked~label.sk-toggleable__label {background-color: #d4ebff;}#sk-container-id-1 input.sk-hidden--visually {border: 0;clip: rect(1px 1px 1px 1px);clip: rect(1px, 1px, 1px, 1px);height: 1px;margin: -1px;overflow: hidden;padding: 0;position: absolute;width: 1px;}#sk-container-id-1 div.sk-estimator {font-family: monospace;background-color: #f0f8ff;border: 1px dotted black;border-radius: 0.25em;box-sizing: border-box;margin-bottom: 0.5em;}#sk-container-id-1 div.sk-estimator:hover {background-color: #d4ebff;}#sk-container-id-1 div.sk-parallel-item::after {content: \"\";width: 100%;border-bottom: 1px solid gray;flex-grow: 1;}#sk-container-id-1 div.sk-label:hover label.sk-toggleable__label {background-color: #d4ebff;}#sk-container-id-1 div.sk-serial::before {content: \"\";position: absolute;border-left: 1px solid gray;box-sizing: border-box;top: 0;bottom: 0;left: 50%;z-index: 0;}#sk-container-id-1 div.sk-serial {display: flex;flex-direction: column;align-items: center;background-color: white;padding-right: 0.2em;padding-left: 0.2em;position: relative;}#sk-container-id-1 div.sk-item {position: relative;z-index: 1;}#sk-container-id-1 div.sk-parallel {display: flex;align-items: stretch;justify-content: center;background-color: white;position: relative;}#sk-container-id-1 div.sk-item::before, #sk-container-id-1 div.sk-parallel-item::before {content: \"\";position: absolute;border-left: 1px solid gray;box-sizing: border-box;top: 0;bottom: 0;left: 50%;z-index: -1;}#sk-container-id-1 div.sk-parallel-item {display: flex;flex-direction: column;z-index: 1;position: relative;background-color: white;}#sk-container-id-1 div.sk-parallel-item:first-child::after {align-self: flex-end;width: 50%;}#sk-container-id-1 div.sk-parallel-item:last-child::after {align-self: flex-start;width: 50%;}#sk-container-id-1 div.sk-parallel-item:only-child::after {width: 0;}#sk-container-id-1 div.sk-dashed-wrapped {border: 1px dashed gray;margin: 0 0.4em 0.5em 0.4em;box-sizing: border-box;padding-bottom: 0.4em;background-color: white;}#sk-container-id-1 div.sk-label label {font-family: monospace;font-weight: bold;display: inline-block;line-height: 1.2em;}#sk-container-id-1 div.sk-label-container {text-align: center;}#sk-container-id-1 div.sk-container {/* jupyter's `normalize.less` sets `[hidden] { display: none; }` but bootstrap.min.css set `[hidden] { display: none !important; }` so we also need the `!important` here to be able to override the default hidden behavior on the sphinx rendered scikit-learn.org. See: https://github.com/scikit-learn/scikit-learn/issues/21755 */display: inline-block !important;position: relative;}#sk-container-id-1 div.sk-text-repr-fallback {display: none;}</style><div id=\"sk-container-id-1\" class=\"sk-top-container\"><div class=\"sk-text-repr-fallback\"><pre>nestedMLR_var_global(bounds=2.25, seed=106, sizes=[5, 4, 6, 10, 5])</pre><b>In a Jupyter environment, please rerun this cell to show the HTML representation or trust the notebook. <br />On GitHub, the HTML representation is unable to render, please try loading this page with nbviewer.org.</b></div><div class=\"sk-container\" hidden><div class=\"sk-item\"><div class=\"sk-estimator sk-toggleable\"><input class=\"sk-toggleable__control sk-hidden--visually\" id=\"sk-estimator-id-1\" type=\"checkbox\" checked><label for=\"sk-estimator-id-1\" class=\"sk-toggleable__label sk-toggleable__label-arrow\">nestedMLR_var_global</label><div class=\"sk-toggleable__content\"><pre>nestedMLR_var_global(bounds=2.25, seed=106, sizes=[5, 4, 6, 10, 5])</pre></div></div></div></div></div>"
      ],
      "text/plain": [
       "nestedMLR_var_global(bounds=2.25, seed=106, sizes=[5, 4, 6, 10, 5])"
      ]
     },
     "execution_count": 5,
     "metadata": {},
     "output_type": "execute_result"
    }
   ],
   "source": [
    "model = nestedMLR.nestedMLR_var_global(sizes[0],seed+4, 2.25)\n",
    "model.fit(Xtrains[0], ytrains[0]['cdf'].values)"
   ]
  },
  {
   "cell_type": "code",
   "execution_count": 6,
   "metadata": {},
   "outputs": [
    {
     "data": {
      "text/plain": [
       "(array([1.19187429, 1.21124892, 1.5803408 , 2.57322299, 0.90994486,\n",
       "        0.49344803, 2.4276083 , 0.96256355, 0.38575858, 1.44150573,\n",
       "        1.39710525, 1.88982622, 2.01394232, 1.16560547, 2.31961081]),\n",
       " array([2.83267521, 2.82178632, 0.67042071, 4.06922139, 1.21347463,\n",
       "        0.28077558, 3.75805739, 0.91023414, 0.26891327, 0.06098095,\n",
       "        0.66373998, 1.46091615, 0.48655505, 0.36195404, 0.50447758]))"
      ]
     },
     "execution_count": 6,
     "metadata": {},
     "output_type": "execute_result"
    }
   ],
   "source": [
    "model.predict(Xvalids[0])[1], yvalids[0]['cdf'].values[1]"
   ]
  },
  {
   "cell_type": "code",
   "execution_count": 6,
   "metadata": {},
   "outputs": [
    {
     "data": {
      "text/plain": [
       "(array([1.19218017, 1.21176434, 1.58076396, 2.5730824 , 0.9098408 ,\n",
       "        0.49386769, 2.42747948, 0.96246302, 0.38536994, 1.44212455,\n",
       "        1.39659644, 1.89058442, 2.01545162, 1.16522457, 2.31721984]),\n",
       " array([2.83267521, 2.82178632, 0.67042071, 4.06922139, 1.21347463,\n",
       "        0.28077558, 3.75805739, 0.91023414, 0.26891327, 0.06098095,\n",
       "        0.66373998, 1.46091615, 0.48655505, 0.36195404, 0.50447758]))"
      ]
     },
     "execution_count": 6,
     "metadata": {},
     "output_type": "execute_result"
    }
   ],
   "source": [
    "model.predict(Xvalids[0])[1], yvalids[0]['cdf'].values[1]"
   ]
  },
  {
   "cell_type": "code",
   "execution_count": 23,
   "metadata": {},
   "outputs": [],
   "source": [
    "def find_best_seed(Xtrain, ytrain, Xvalid, yvalid, size, numseed=1000, TYPE='cdf'):\n",
    "    best_seed = None\n",
    "    best_r2 = -np.inf\n",
    "    \n",
    "    for seed in tqdm(range(numseed)):\n",
    "        model = nestedMLR.nestedMLR_var_sfgo(size,seed)\n",
    "        model.fit(Xtrain, ytrain[TYPE].values)\n",
    "\n",
    "        ypred = model.predict(Xvalid)\n",
    "        r2valid = r2_score(yvalid[TYPE].values, model.predict(Xvalid))\n",
    "\n",
    "        if r2valid > best_r2:\n",
    "            best_seed = seed\n",
    "            best_r2 = r2valid\n",
    "    return best_seed, best_r2, model"
   ]
  },
  {
   "cell_type": "code",
   "execution_count": 28,
   "metadata": {},
   "outputs": [
    {
     "name": "stderr",
     "output_type": "stream",
     "text": [
      "100%|██████████| 100/100 [02:10<00:00,  1.30s/it]\n",
      "100%|██████████| 100/100 [02:10<00:00,  1.30s/it]\n",
      "100%|██████████| 100/100 [02:09<00:00,  1.30s/it]\n",
      "100%|██████████| 100/100 [02:11<00:00,  1.32s/it]\n",
      "100%|██████████| 100/100 [02:13<00:00,  1.33s/it]\n",
      "100%|██████████| 100/100 [02:12<00:00,  1.33s/it]\n",
      "100%|██████████| 100/100 [02:12<00:00,  1.32s/it]\n",
      "100%|██████████| 100/100 [02:10<00:00,  1.31s/it]\n",
      "100%|██████████| 100/100 [02:09<00:00,  1.30s/it]\n",
      "100%|██████████| 100/100 [02:07<00:00,  1.28s/it]\n"
     ]
    }
   ],
   "source": [
    "for i in range(10):\n",
    "    bestseed, bestvalid_r2, model = find_best_seed(Xtrains[i], ytrains[i], Xvalids[i], yvalids[i], sizes[i], 100, 'cdf')\n",
    "    dict_store = {'bestseed': bestseed, 'bestvalid_r2': bestvalid_r2,'bestmodel': model}\n",
    "    baseline.save_models(dict_store, f'../../datas/proc/part2/nestedMLR/{seed}/cv_{i+1}_var_{n_vars}_bestmodel.pkl')"
   ]
  },
  {
   "cell_type": "code",
   "execution_count": 31,
   "metadata": {},
   "outputs": [
    {
     "data": {
      "text/plain": [
       "{'dense1': array([-0.14235884,  2.05722174,  0.28326194,  1.32981198, -0.15462185]),\n",
       " 'dense2': array([-0.06903086,  0.75518049,  0.82564665, -0.11306921]),\n",
       " 'dense3': array([-2.36783759, -0.16704943,  0.68539797,  0.02350011,  0.45620128,\n",
       "         0.27049278]),\n",
       " 'dense4': array([-1.43500814,  0.88281715, -0.58008166, -0.5015653 ,  0.59095329,\n",
       "        -0.73161625,  0.26175546, -0.85579558, -0.18752591, -0.37348629]),\n",
       " 'dense5': array([-0.46197097, -0.8164661 , -0.0451233 ,  0.12132778,  0.92595278]),\n",
       " 'output': array([[ 0.43333402, -1.70429169, -0.24390807, -2.13970379,  0.86132265,\n",
       "          1.7002844 , -0.5287848 ,  1.76347792, -1.12160783, -1.19193417,\n",
       "          0.55273192, -0.81598095, -0.49664685,  1.08622556, -0.97467528],\n",
       "        [-0.28213582, -0.11721415,  0.37854727,  0.73219465, -0.10357103,\n",
       "         -1.19870628,  1.01003558,  2.87536033,  0.82031264,  0.56061151,\n",
       "         -0.3756422 , -0.2521043 , -1.38961345,  0.61733228, -0.13578705],\n",
       "        [ 1.28790496, -1.0369944 ,  1.36433214, -0.30995664, -0.61111712,\n",
       "         -0.48310578, -0.60898369, -2.0883353 ,  0.639322  ,  0.77430395,\n",
       "          1.2785694 ,  0.70527602,  0.65597738, -1.67850204,  0.18310987],\n",
       "        [-1.13322409, -0.27908571,  1.3966199 ,  0.03221944, -2.61366077,\n",
       "         -1.00157763, -0.56751101, -0.22565803,  0.93802381,  0.83678413,\n",
       "          0.81214848,  0.23230697, -0.29510767, -0.361676  ,  0.43211507],\n",
       "        [ 0.93395855,  1.55263386,  0.09362341,  0.29482583,  1.48543077,\n",
       "         -1.08688515,  0.82116281, -0.7879492 ,  1.59381165,  1.40590436,\n",
       "          1.64475657,  1.54159871,  0.84060764, -1.0230944 ,  0.4947723 ]])}"
      ]
     },
     "execution_count": 31,
     "metadata": {},
     "output_type": "execute_result"
    }
   ],
   "source": [
    "model.weights"
   ]
  },
  {
   "cell_type": "code",
   "execution_count": 18,
   "metadata": {},
   "outputs": [
    {
     "data": {
      "image/png": "[encoded data removed]",
      "text/plain": [
       "<Figure size 640x480 with 1 Axes>"
      ]
     },
     "metadata": {},
     "output_type": "display_data"
    }
   ],
   "source": [
    "plt.scatter(ytrains[0]['cdf'],model.predict(Xtrains[0]))\n",
    "# Add 1-1 line\n",
    "plt.plot([0,5],[0,5], color='red')\n",
    "plt.xlabel('Truth')\n",
    "plt.ylabel('Prediction')\n",
    "plt.grid(lw=2,alpha=0.2,ls='--')\n",
    "plt.show()"
   ]
  },
  {
   "cell_type": "code",
   "execution_count": 51,
   "metadata": {},
   "outputs": [
    {
     "data": {
      "text/plain": [
       "[0.3, 0.3, 0.3, 0.1, 0.4, 0.4, 0.4, 0.4, 0.1]"
      ]
     },
     "execution_count": 51,
     "metadata": {},
     "output_type": "execute_result"
    }
   ],
   "source": [
    "nested_list = [x for pair in zip(weights, biases) for x in pair]\n",
    "[item for sublist in nested_list for item in (sublist if isinstance(sublist, list) else [sublist])]"
   ]
  },
  {
   "cell_type": "code",
   "execution_count": null,
   "metadata": {},
   "outputs": [],
   "source": []
  }
 ],
 "metadata": {
  "kernelspec": {
   "display_name": "myenv",
   "language": "python",
   "name": "python3"
  },
  "language_info": {
   "codemirror_mode": {
    "name": "ipython",
    "version": 3
   },
   "file_extension": ".py",
   "mimetype": "text/x-python",
   "name": "python",
   "nbconvert_exporter": "python",
   "pygments_lexer": "ipython3",
   "version": "3.8.18"
  }
 },
 "nbformat": 4,
 "nbformat_minor": 2
}
